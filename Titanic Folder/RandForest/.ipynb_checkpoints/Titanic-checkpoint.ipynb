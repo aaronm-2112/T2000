{
 "cells": [
  {
   "cell_type": "markdown",
   "metadata": {},
   "source": [
    "Get that importion"
   ]
  },
  {
   "cell_type": "code",
   "execution_count": 14,
   "metadata": {},
   "outputs": [],
   "source": [
    "# To support both python 2 and python 3\n",
    "from __future__ import division, print_function, unicode_literals\n",
    "\n",
    "# Common imports\n",
    "import numpy as np\n",
    "import os\n",
    "\n",
    "\n",
    "# to make this notebook's output stable across runs\n",
    "np.random.seed(42)\n",
    "\n",
    "# To plot pretty figures\n",
    "%matplotlib inline\n",
    "import matplotlib\n",
    "import matplotlib.pyplot as plt\n",
    "\n",
    "\n",
    "import pandas as pd\n",
    "from sklearn import model_selection,  ensemble"
   ]
  },
  {
   "cell_type": "code",
   "execution_count": 15,
   "metadata": {},
   "outputs": [],
   "source": [
    "df_train = pd.read_csv('titanic/train.csv')\n",
    "df_test = pd.read_csv('titanic/test.csv')"
   ]
  },
  {
   "cell_type": "code",
   "execution_count": 16,
   "metadata": {},
   "outputs": [],
   "source": [
    "def clean(data):    \n",
    "    data.drop(\"Embarked\", axis = 1, inplace = True) # dropped entirely because it does not seem to help much\n",
    "    \n",
    "    data[\"Age\"] = data[\"Age\"].fillna(data[\"Age\"].dropna().median()) # fill missing areas with average values\n",
    "    data[\"Fare\"] = data[\"Fare\"].fillna(data[\"Fare\"].dropna().median()) # fill missing areas with average values\n",
    "    \n",
    "    data.loc [data[\"Sex\"] == \"female\", \"Sex\"] = 1 # convert to ints\n",
    "    data.loc [data[\"Sex\"] == \"male\", \"Sex\"] = 0 # convert to ints"
   ]
  },
  {
   "cell_type": "markdown",
   "metadata": {},
   "source": [
    "Drop the Embarked data because it had missing values and the weight of the feature is low. Filled in the Age and Fare datas' missing rows with the median of the columns' values. For sex male and female were converted to 0 and 1 to allow for computation in algorithms. "
   ]
  },
  {
   "cell_type": "code",
   "execution_count": 17,
   "metadata": {},
   "outputs": [],
   "source": [
    "clean(df_train)\n",
    "clean(df_test)"
   ]
  },
  {
   "cell_type": "code",
   "execution_count": 18,
   "metadata": {},
   "outputs": [],
   "source": [
    "# necessary to generate a compatible csv file for kaggle\n",
    "def write_prediction(prediction, name):\n",
    "    PassengerId = np.array(df_test[\"PassengerId\"]).astype(int)\n",
    "    solution = pd.DataFrame(prediction, PassengerId, columns = [\"Survived\"])\n",
    "    solution.to_csv(name, index_label = [\"PassengerId\"])"
   ]
  },
  {
   "cell_type": "code",
   "execution_count": 19,
   "metadata": {},
   "outputs": [],
   "source": [
    "goal = df_train[\"Survived\"].values\n",
    "variables = df_train[[\"Sex\", \"Age\", \"Pclass\", \"Fare\", \"SibSp\", \"Parch\"]].values # pass in the data variables"
   ]
  },
  {
   "cell_type": "markdown",
   "metadata": {},
   "source": [
    "Base our training off of these variables. Sex > Fare > Pclass > Age > SibSp > Parch"
   ]
  },
  {
   "cell_type": "code",
   "execution_count": 20,
   "metadata": {},
   "outputs": [],
   "source": [
    "rand_forest = ensemble.RandomForestClassifier(\n",
    "    n_jobs = -1, # use all processors for fitting and predicting \n",
    "    max_depth = 6, # max depth of tree based on data variables \n",
    "    random_state = 42, # has to be 42 or else \n",
    "    min_samples_split = 4, # minimum samples needed to split a node\n",
    "    n_estimators = 1000, # number of trees in forest\n",
    "    criterion = 'entropy' #turns out this is way better than gini (shoutout to Raj)\n",
    "    \n",
    ")"
   ]
  },
  {
   "cell_type": "markdown",
   "metadata": {},
   "source": [
    "Random Forest is a collection of decision trees. Better at accounting for overfitting than decision trees.  "
   ]
  },
  {
   "cell_type": "code",
   "execution_count": 21,
   "metadata": {},
   "outputs": [],
   "source": [
    "# perform training and save the results to a .csv file\n",
    "rand_forest = rand_forest.fit(variables, goal)\n",
    "variable_test = df_test[[\"Sex\", \"Age\", \"Pclass\", \"Fare\", \"SibSp\", \"Parch\"]].values\n",
    "prediction_forest = rand_forest.predict(variable_test)\n",
    "write_prediction(prediction_forest, \"results/results.csv\")"
   ]
  },
  {
   "cell_type": "code",
   "execution_count": 22,
   "metadata": {},
   "outputs": [
    {
     "name": "stdout",
     "output_type": "stream",
     "text": [
      "[0.41312112 0.1475431  0.13820872 0.2048374  0.05821531 0.03807434]\n"
     ]
    }
   ],
   "source": [
    "print(rand_forest.feature_importances_) #determine most valuable data variables\n",
    "#Sex,         Age,      Pclass,    Fare,      SibSp,      Parch"
   ]
  },
  {
   "cell_type": "code",
   "execution_count": 23,
   "metadata": {},
   "outputs": [
    {
     "name": "stdout",
     "output_type": "stream",
     "text": [
      "0.856341189674523\n"
     ]
    }
   ],
   "source": [
    "print(rand_forest.score(variables, goal)) #score of the models predictions"
   ]
  },
  {
   "cell_type": "code",
   "execution_count": 24,
   "metadata": {},
   "outputs": [],
   "source": [
    "score = model_selection.cross_val_score(rand_forest, variables, goal, scoring='accuracy', cv=8)\n",
    "#cross validation score"
   ]
  },
  {
   "cell_type": "code",
   "execution_count": 25,
   "metadata": {},
   "outputs": [
    {
     "name": "stdout",
     "output_type": "stream",
     "text": [
      "[0.79464286 0.77678571 0.83928571 0.875      0.8125     0.79279279\n",
      " 0.80909091 0.86363636]\n"
     ]
    }
   ],
   "source": [
    "print(score)"
   ]
  },
  {
   "cell_type": "code",
   "execution_count": 26,
   "metadata": {},
   "outputs": [
    {
     "name": "stdout",
     "output_type": "stream",
     "text": [
      "0.8204667939042939\n"
     ]
    }
   ],
   "source": [
    "print(score.mean())"
   ]
  }
 ],
 "metadata": {
  "kernelspec": {
   "display_name": "Python 3",
   "language": "python",
   "name": "python3"
  },
  "language_info": {
   "codemirror_mode": {
    "name": "ipython",
    "version": 3
   },
   "file_extension": ".py",
   "mimetype": "text/x-python",
   "name": "python",
   "nbconvert_exporter": "python",
   "pygments_lexer": "ipython3",
   "version": "3.6.8"
  }
 },
 "nbformat": 4,
 "nbformat_minor": 2
}
